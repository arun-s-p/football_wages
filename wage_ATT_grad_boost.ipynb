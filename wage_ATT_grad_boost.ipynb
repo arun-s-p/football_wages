{
 "cells": [
  {
   "cell_type": "code",
   "execution_count": 1,
   "metadata": {},
   "outputs": [],
   "source": [
    "import pandas as pd\n",
    "import matplotlib.pyplot as plt\n",
    "import numpy as np\n",
    "import seaborn as sns\n",
    "import scipy\n",
    "import warnings\n",
    "warnings.filterwarnings('ignore')"
   ]
  },
  {
   "cell_type": "code",
   "execution_count": 2,
   "metadata": {},
   "outputs": [
    {
     "data": {
      "text/plain": [
       "Index(['Unnamed: 0', 'Player', 'Wages', 'Pos', 'MP', 'Starts', 'Min', '90s',\n",
       "       'Gls', 'Ast', 'xG', 'xA', 'Sh', 'SoT', 'G/Sh', 'G/SoT', 'Dist', 'FK',\n",
       "       'PK', 'G-xG', 'SCA90', 'GCA90', 'Cmp', 'Att', 'TotDist', 'PrgDist',\n",
       "       'S.Cmp', 'S.Att', 'M.Cmp', 'M.Att', 'L.Cmp', 'L.Att', 'KP', '1/3',\n",
       "       'PPA', 'CrsPA', 'Prog', 'PressPass', 'Cross', 'TchDefP', 'TchDef3',\n",
       "       'TchMid3', 'TchAtt3', 'TchAttP', 'DrSucc', 'DrPast', 'ProgCrr',\n",
       "       'Crr1/3', 'CPA', 'Tkl', 'TklW', 'TklDef3', 'TklMid3', 'TklAtt3',\n",
       "       'Press', 'Succ', 'PrsDef3', 'PrsMid3', 'PrsAtt3', 'Blocks', 'Int',\n",
       "       'Clr', 'Squad', 'Recov', 'ArDuWon%', 'PrgPassDist'],\n",
       "      dtype='object')"
      ]
     },
     "execution_count": 2,
     "metadata": {},
     "output_type": "execute_result"
    }
   ],
   "source": [
    "df=pd.read_csv('Data/combined.csv')\n",
    "new_index=df['Player']\n",
    "df.index=new_index\n",
    "df.rename(columns={'Weekly':'Wages'},inplace=True)\n",
    "df.columns"
   ]
  },
  {
   "cell_type": "markdown",
   "metadata": {},
   "source": [
    "From the exploratory data anlaysis, we concluded that only a few indicators will be used to model the wages. Other performance-related columns are dropped. The total minutes played and no of minutes played are retained. Age could also influence the wage. However, that will be incorporated leter."
   ]
  },
  {
   "cell_type": "code",
   "execution_count": 3,
   "metadata": {},
   "outputs": [
    {
     "data": {
      "text/html": [
       "<div>\n",
       "<style scoped>\n",
       "    .dataframe tbody tr th:only-of-type {\n",
       "        vertical-align: middle;\n",
       "    }\n",
       "\n",
       "    .dataframe tbody tr th {\n",
       "        vertical-align: top;\n",
       "    }\n",
       "\n",
       "    .dataframe thead th {\n",
       "        text-align: right;\n",
       "    }\n",
       "</style>\n",
       "<table border=\"1\" class=\"dataframe\">\n",
       "  <thead>\n",
       "    <tr style=\"text-align: right;\">\n",
       "      <th></th>\n",
       "      <th>Wages</th>\n",
       "      <th>Pos</th>\n",
       "      <th>Starts</th>\n",
       "      <th>Min</th>\n",
       "      <th>90s</th>\n",
       "      <th>xG</th>\n",
       "      <th>xA</th>\n",
       "      <th>Sh</th>\n",
       "      <th>SoT</th>\n",
       "      <th>SCA90</th>\n",
       "      <th>GCA90</th>\n",
       "      <th>KP</th>\n",
       "      <th>Pto3</th>\n",
       "      <th>PPA</th>\n",
       "      <th>Prog</th>\n",
       "      <th>ProgCrr</th>\n",
       "      <th>Crrto3</th>\n",
       "      <th>CPA</th>\n",
       "      <th>Squad</th>\n",
       "    </tr>\n",
       "    <tr>\n",
       "      <th>Player</th>\n",
       "      <th></th>\n",
       "      <th></th>\n",
       "      <th></th>\n",
       "      <th></th>\n",
       "      <th></th>\n",
       "      <th></th>\n",
       "      <th></th>\n",
       "      <th></th>\n",
       "      <th></th>\n",
       "      <th></th>\n",
       "      <th></th>\n",
       "      <th></th>\n",
       "      <th></th>\n",
       "      <th></th>\n",
       "      <th></th>\n",
       "      <th></th>\n",
       "      <th></th>\n",
       "      <th></th>\n",
       "      <th></th>\n",
       "    </tr>\n",
       "  </thead>\n",
       "  <tbody>\n",
       "    <tr>\n",
       "      <th>Aaron Cresswell</th>\n",
       "      <td>50000</td>\n",
       "      <td>DF</td>\n",
       "      <td>21</td>\n",
       "      <td>1860</td>\n",
       "      <td>20.7</td>\n",
       "      <td>0.03</td>\n",
       "      <td>0.11</td>\n",
       "      <td>0.58</td>\n",
       "      <td>0.10</td>\n",
       "      <td>1.98</td>\n",
       "      <td>0.24</td>\n",
       "      <td>1.35</td>\n",
       "      <td>3.96</td>\n",
       "      <td>0.87</td>\n",
       "      <td>5.65</td>\n",
       "      <td>3.38</td>\n",
       "      <td>1.64</td>\n",
       "      <td>0.05</td>\n",
       "      <td>WHU</td>\n",
       "    </tr>\n",
       "    <tr>\n",
       "      <th>Aaron Lennon</th>\n",
       "      <td>10577</td>\n",
       "      <td>MFFW</td>\n",
       "      <td>11</td>\n",
       "      <td>983</td>\n",
       "      <td>10.9</td>\n",
       "      <td>0.06</td>\n",
       "      <td>0.03</td>\n",
       "      <td>0.64</td>\n",
       "      <td>0.18</td>\n",
       "      <td>1.74</td>\n",
       "      <td>0.37</td>\n",
       "      <td>0.37</td>\n",
       "      <td>0.55</td>\n",
       "      <td>0.28</td>\n",
       "      <td>1.01</td>\n",
       "      <td>2.57</td>\n",
       "      <td>0.83</td>\n",
       "      <td>0.92</td>\n",
       "      <td>BUR</td>\n",
       "    </tr>\n",
       "    <tr>\n",
       "      <th>Aaron Ramsdale</th>\n",
       "      <td>71154</td>\n",
       "      <td>GK</td>\n",
       "      <td>22</td>\n",
       "      <td>1980</td>\n",
       "      <td>22.0</td>\n",
       "      <td>0.00</td>\n",
       "      <td>0.00</td>\n",
       "      <td>0.00</td>\n",
       "      <td>0.00</td>\n",
       "      <td>0.00</td>\n",
       "      <td>0.00</td>\n",
       "      <td>0.00</td>\n",
       "      <td>0.91</td>\n",
       "      <td>0.00</td>\n",
       "      <td>0.00</td>\n",
       "      <td>0.00</td>\n",
       "      <td>0.00</td>\n",
       "      <td>0.00</td>\n",
       "      <td>ARS</td>\n",
       "    </tr>\n",
       "    <tr>\n",
       "      <th>Aaron Wan-Bissaka</th>\n",
       "      <td>90000</td>\n",
       "      <td>DF</td>\n",
       "      <td>18</td>\n",
       "      <td>1613</td>\n",
       "      <td>17.9</td>\n",
       "      <td>0.01</td>\n",
       "      <td>0.05</td>\n",
       "      <td>0.22</td>\n",
       "      <td>0.06</td>\n",
       "      <td>1.73</td>\n",
       "      <td>0.06</td>\n",
       "      <td>0.78</td>\n",
       "      <td>2.07</td>\n",
       "      <td>0.67</td>\n",
       "      <td>2.68</td>\n",
       "      <td>4.92</td>\n",
       "      <td>1.79</td>\n",
       "      <td>0.22</td>\n",
       "      <td>MUN</td>\n",
       "    </tr>\n",
       "    <tr>\n",
       "      <th>Abdoulaye Doucouré</th>\n",
       "      <td>75000</td>\n",
       "      <td>MF</td>\n",
       "      <td>18</td>\n",
       "      <td>1594</td>\n",
       "      <td>17.7</td>\n",
       "      <td>0.11</td>\n",
       "      <td>0.08</td>\n",
       "      <td>1.36</td>\n",
       "      <td>0.34</td>\n",
       "      <td>2.20</td>\n",
       "      <td>0.34</td>\n",
       "      <td>0.79</td>\n",
       "      <td>3.22</td>\n",
       "      <td>0.79</td>\n",
       "      <td>3.50</td>\n",
       "      <td>3.16</td>\n",
       "      <td>1.24</td>\n",
       "      <td>0.28</td>\n",
       "      <td>EVE</td>\n",
       "    </tr>\n",
       "  </tbody>\n",
       "</table>\n",
       "</div>"
      ],
      "text/plain": [
       "                    Wages   Pos  Starts   Min   90s    xG    xA    Sh   SoT  \\\n",
       "Player                                                                        \n",
       "Aaron Cresswell     50000    DF      21  1860  20.7  0.03  0.11  0.58  0.10   \n",
       "Aaron Lennon        10577  MFFW      11   983  10.9  0.06  0.03  0.64  0.18   \n",
       "Aaron Ramsdale      71154    GK      22  1980  22.0  0.00  0.00  0.00  0.00   \n",
       "Aaron Wan-Bissaka   90000    DF      18  1613  17.9  0.01  0.05  0.22  0.06   \n",
       "Abdoulaye Doucouré  75000    MF      18  1594  17.7  0.11  0.08  1.36  0.34   \n",
       "\n",
       "                    SCA90  GCA90    KP  Pto3   PPA  Prog  ProgCrr  Crrto3  \\\n",
       "Player                                                                      \n",
       "Aaron Cresswell      1.98   0.24  1.35  3.96  0.87  5.65     3.38    1.64   \n",
       "Aaron Lennon         1.74   0.37  0.37  0.55  0.28  1.01     2.57    0.83   \n",
       "Aaron Ramsdale       0.00   0.00  0.00  0.91  0.00  0.00     0.00    0.00   \n",
       "Aaron Wan-Bissaka    1.73   0.06  0.78  2.07  0.67  2.68     4.92    1.79   \n",
       "Abdoulaye Doucouré   2.20   0.34  0.79  3.22  0.79  3.50     3.16    1.24   \n",
       "\n",
       "                     CPA Squad  \n",
       "Player                          \n",
       "Aaron Cresswell     0.05   WHU  \n",
       "Aaron Lennon        0.92   BUR  \n",
       "Aaron Ramsdale      0.00   ARS  \n",
       "Aaron Wan-Bissaka   0.22   MUN  \n",
       "Abdoulaye Doucouré  0.28   EVE  "
      ]
     },
     "execution_count": 3,
     "metadata": {},
     "output_type": "execute_result"
    }
   ],
   "source": [
    "df.drop(['Unnamed: 0', 'Player','MP', \n",
    "       'Gls', 'Ast', 'G/Sh', 'G/SoT', 'Dist', 'FK',\n",
    "       'PK', 'G-xG','Cmp', 'Att', 'TotDist', 'PrgDist',\n",
    "       'S.Cmp', 'S.Att', 'M.Cmp', 'M.Att', 'L.Cmp', 'L.Att',\n",
    "        'CrsPA','PressPass', 'Cross', 'TchDefP', 'TchDef3',\n",
    "       'TchMid3', 'TchAtt3', 'TchAttP', 'DrSucc', 'DrPast', \n",
    "       'Tkl', 'TklW', 'TklDef3', 'TklMid3', 'TklAtt3',\n",
    "       'Press', 'Succ', 'PrsDef3', 'PrsMid3', 'PrsAtt3', 'Blocks', 'Int',\n",
    "       'Clr', 'Recov', 'ArDuWon%', 'PrgPassDist'],axis=1,inplace=True)\n",
    "df.rename(columns={'1/3':'Pto3','Crr1/3':'Crrto3'},inplace=True)\n",
    "df.head()"
   ]
  },
  {
   "cell_type": "markdown",
   "metadata": {},
   "source": [
    "Defenders and goalkeeper are dropped as we base our model purely on attacking performance. Nevertheless, there are defenders who contribute heavily in the attacking phase for many teams. Players who have not clocked atleast 450 minutes on the pitch (equivalent to 5 matches) are also dropped."
   ]
  },
  {
   "cell_type": "code",
   "execution_count": 4,
   "metadata": {},
   "outputs": [
    {
     "data": {
      "text/plain": [
       "array(['MFFW', 'MF', 'FW', 'FWMF', 'MFDF', 'DFMF', 'FWDF'], dtype=object)"
      ]
     },
     "execution_count": 4,
     "metadata": {},
     "output_type": "execute_result"
    }
   ],
   "source": [
    "df.drop(df.index[df['Pos']=='GK'],inplace=True)\n",
    "df.drop(df.index[df['Pos']=='DF'],inplace=True)\n",
    "df.drop(df.index[df['90s']<5],inplace=True)\n",
    "df['Pos'].unique()"
   ]
  },
  {
   "cell_type": "markdown",
   "metadata": {},
   "source": [
    "Wage outliers have to be dropped, unless their performace indicators aren't outliers too (Exceptional performance deserves exceptional wages). To find performance ouutliers, a crude measurement, that is the sum of the all performance indicators, is used."
   ]
  },
  {
   "cell_type": "code",
   "execution_count": 5,
   "metadata": {},
   "outputs": [],
   "source": [
    "upper_bound_wage=2.5*df['Wages'].quantile(0.75)-1.5*df['Wages'].quantile(0.25)\n",
    "wage_outliers=set(df.index[df.Wages>upper_bound_wage])\n",
    "\n",
    "df['Performance']=df.xG+df.xA+df.Sh+df.SoT+df.SCA90+df.GCA90+df.KP+df.Pto3+df.PPA+df.Prog+df.ProgCrr+df.Crrto3+df.CPA\n",
    "upper_bound_perf=2.5*df['Performance'].quantile(0.75)-1.5*df['Performance'].quantile(0.25)\n",
    "perf_outliers=set(df.index[df.Performance>upper_bound_perf])\n",
    "\n",
    "sdf=df.drop(wage_outliers.difference(perf_outliers))\n",
    "sdf.drop('Performance',axis=1,inplace=True)"
   ]
  },
  {
   "cell_type": "markdown",
   "metadata": {},
   "source": [
    "We noticed in the earlier analysis that salary varies for different positions so this information is retained. The position feature is converted to dummy variables."
   ]
  },
  {
   "cell_type": "code",
   "execution_count": 6,
   "metadata": {},
   "outputs": [
    {
     "data": {
      "text/html": [
       "<div>\n",
       "<style scoped>\n",
       "    .dataframe tbody tr th:only-of-type {\n",
       "        vertical-align: middle;\n",
       "    }\n",
       "\n",
       "    .dataframe tbody tr th {\n",
       "        vertical-align: top;\n",
       "    }\n",
       "\n",
       "    .dataframe thead th {\n",
       "        text-align: right;\n",
       "    }\n",
       "</style>\n",
       "<table border=\"1\" class=\"dataframe\">\n",
       "  <thead>\n",
       "    <tr style=\"text-align: right;\">\n",
       "      <th></th>\n",
       "      <th>Wages</th>\n",
       "      <th>Starts</th>\n",
       "      <th>Min</th>\n",
       "      <th>90s</th>\n",
       "      <th>xG</th>\n",
       "      <th>xA</th>\n",
       "      <th>Sh</th>\n",
       "      <th>SoT</th>\n",
       "      <th>SCA</th>\n",
       "      <th>GCA</th>\n",
       "      <th>...</th>\n",
       "      <th>Cr3</th>\n",
       "      <th>CPA</th>\n",
       "      <th>Squad</th>\n",
       "      <th>DFMF</th>\n",
       "      <th>FW</th>\n",
       "      <th>FWDF</th>\n",
       "      <th>FWMF</th>\n",
       "      <th>MF</th>\n",
       "      <th>MFDF</th>\n",
       "      <th>MFFW</th>\n",
       "    </tr>\n",
       "    <tr>\n",
       "      <th>Player</th>\n",
       "      <th></th>\n",
       "      <th></th>\n",
       "      <th></th>\n",
       "      <th></th>\n",
       "      <th></th>\n",
       "      <th></th>\n",
       "      <th></th>\n",
       "      <th></th>\n",
       "      <th></th>\n",
       "      <th></th>\n",
       "      <th></th>\n",
       "      <th></th>\n",
       "      <th></th>\n",
       "      <th></th>\n",
       "      <th></th>\n",
       "      <th></th>\n",
       "      <th></th>\n",
       "      <th></th>\n",
       "      <th></th>\n",
       "      <th></th>\n",
       "      <th></th>\n",
       "    </tr>\n",
       "  </thead>\n",
       "  <tbody>\n",
       "    <tr>\n",
       "      <th>Aaron Lennon</th>\n",
       "      <td>10577</td>\n",
       "      <td>11</td>\n",
       "      <td>983</td>\n",
       "      <td>10.9</td>\n",
       "      <td>0.06</td>\n",
       "      <td>0.03</td>\n",
       "      <td>0.64</td>\n",
       "      <td>0.18</td>\n",
       "      <td>1.74</td>\n",
       "      <td>0.37</td>\n",
       "      <td>...</td>\n",
       "      <td>0.83</td>\n",
       "      <td>0.92</td>\n",
       "      <td>BUR</td>\n",
       "      <td>0</td>\n",
       "      <td>0</td>\n",
       "      <td>0</td>\n",
       "      <td>0</td>\n",
       "      <td>0</td>\n",
       "      <td>0</td>\n",
       "      <td>1</td>\n",
       "    </tr>\n",
       "    <tr>\n",
       "      <th>Abdoulaye Doucouré</th>\n",
       "      <td>75000</td>\n",
       "      <td>18</td>\n",
       "      <td>1594</td>\n",
       "      <td>17.7</td>\n",
       "      <td>0.11</td>\n",
       "      <td>0.08</td>\n",
       "      <td>1.36</td>\n",
       "      <td>0.34</td>\n",
       "      <td>2.20</td>\n",
       "      <td>0.34</td>\n",
       "      <td>...</td>\n",
       "      <td>1.24</td>\n",
       "      <td>0.28</td>\n",
       "      <td>EVE</td>\n",
       "      <td>0</td>\n",
       "      <td>0</td>\n",
       "      <td>0</td>\n",
       "      <td>0</td>\n",
       "      <td>1</td>\n",
       "      <td>0</td>\n",
       "      <td>0</td>\n",
       "    </tr>\n",
       "    <tr>\n",
       "      <th>Adam Armstrong</th>\n",
       "      <td>47885</td>\n",
       "      <td>14</td>\n",
       "      <td>1216</td>\n",
       "      <td>13.5</td>\n",
       "      <td>0.30</td>\n",
       "      <td>0.13</td>\n",
       "      <td>3.26</td>\n",
       "      <td>1.04</td>\n",
       "      <td>1.92</td>\n",
       "      <td>0.22</td>\n",
       "      <td>...</td>\n",
       "      <td>1.26</td>\n",
       "      <td>1.19</td>\n",
       "      <td>SOU</td>\n",
       "      <td>0</td>\n",
       "      <td>1</td>\n",
       "      <td>0</td>\n",
       "      <td>0</td>\n",
       "      <td>0</td>\n",
       "      <td>0</td>\n",
       "      <td>0</td>\n",
       "    </tr>\n",
       "    <tr>\n",
       "      <th>Adam Forshaw</th>\n",
       "      <td>20000</td>\n",
       "      <td>14</td>\n",
       "      <td>1260</td>\n",
       "      <td>14.0</td>\n",
       "      <td>0.02</td>\n",
       "      <td>0.08</td>\n",
       "      <td>0.86</td>\n",
       "      <td>0.29</td>\n",
       "      <td>1.71</td>\n",
       "      <td>0.07</td>\n",
       "      <td>...</td>\n",
       "      <td>0.93</td>\n",
       "      <td>0.07</td>\n",
       "      <td>LEE</td>\n",
       "      <td>0</td>\n",
       "      <td>0</td>\n",
       "      <td>0</td>\n",
       "      <td>0</td>\n",
       "      <td>1</td>\n",
       "      <td>0</td>\n",
       "      <td>0</td>\n",
       "    </tr>\n",
       "    <tr>\n",
       "      <th>Adam Idah</th>\n",
       "      <td>5000</td>\n",
       "      <td>6</td>\n",
       "      <td>625</td>\n",
       "      <td>6.9</td>\n",
       "      <td>0.29</td>\n",
       "      <td>0.09</td>\n",
       "      <td>2.03</td>\n",
       "      <td>0.58</td>\n",
       "      <td>1.73</td>\n",
       "      <td>0.14</td>\n",
       "      <td>...</td>\n",
       "      <td>0.43</td>\n",
       "      <td>0.29</td>\n",
       "      <td>NOR</td>\n",
       "      <td>0</td>\n",
       "      <td>0</td>\n",
       "      <td>0</td>\n",
       "      <td>1</td>\n",
       "      <td>0</td>\n",
       "      <td>0</td>\n",
       "      <td>0</td>\n",
       "    </tr>\n",
       "  </tbody>\n",
       "</table>\n",
       "<p>5 rows × 25 columns</p>\n",
       "</div>"
      ],
      "text/plain": [
       "                    Wages  Starts   Min   90s    xG    xA    Sh   SoT   SCA  \\\n",
       "Player                                                                        \n",
       "Aaron Lennon        10577      11   983  10.9  0.06  0.03  0.64  0.18  1.74   \n",
       "Abdoulaye Doucouré  75000      18  1594  17.7  0.11  0.08  1.36  0.34  2.20   \n",
       "Adam Armstrong      47885      14  1216  13.5  0.30  0.13  3.26  1.04  1.92   \n",
       "Adam Forshaw        20000      14  1260  14.0  0.02  0.08  0.86  0.29  1.71   \n",
       "Adam Idah            5000       6   625   6.9  0.29  0.09  2.03  0.58  1.73   \n",
       "\n",
       "                     GCA  ...   Cr3   CPA  Squad  DFMF  FW  FWDF  FWMF MF  \\\n",
       "Player                    ...                                               \n",
       "Aaron Lennon        0.37  ...  0.83  0.92    BUR     0   0     0     0  0   \n",
       "Abdoulaye Doucouré  0.34  ...  1.24  0.28    EVE     0   0     0     0  1   \n",
       "Adam Armstrong      0.22  ...  1.26  1.19    SOU     0   1     0     0  0   \n",
       "Adam Forshaw        0.07  ...  0.93  0.07    LEE     0   0     0     0  1   \n",
       "Adam Idah           0.14  ...  0.43  0.29    NOR     0   0     0     1  0   \n",
       "\n",
       "                    MFDF  MFFW  \n",
       "Player                          \n",
       "Aaron Lennon           0     1  \n",
       "Abdoulaye Doucouré     0     0  \n",
       "Adam Armstrong         0     0  \n",
       "Adam Forshaw           0     0  \n",
       "Adam Idah              0     0  \n",
       "\n",
       "[5 rows x 25 columns]"
      ]
     },
     "execution_count": 6,
     "metadata": {},
     "output_type": "execute_result"
    }
   ],
   "source": [
    "sdf=pd.concat([sdf,pd.get_dummies(sdf['Pos'])], axis=1)\n",
    "sdf.drop('Pos',axis=1,inplace=True)\n",
    "sdf.rename(columns={'SCA90':'SCA','GCA90':'GCA','Pto3':'Ps3','Prog':'PrP','ProgCrr':'PrC','Crrto3':'Cr3'},inplace=True)\n",
    "sdf.head()"
   ]
  },
  {
   "cell_type": "markdown",
   "metadata": {},
   "source": [
    "# Gradient Boost Regression\n",
    "\n",
    "We have already established the approximate relation between some of the performance indicators and wages. We will use the same features to train the gradient boosting regression.\n",
    "\n",
    "- xG\n",
    "- xA\n",
    "- Shots\n",
    "- Shots on target\n",
    "- Shot creating actions\n",
    "- Goal creating actions\n",
    "- Key passes \n",
    "- Passes to final third\n",
    "- Passes to opposition box\n",
    "- Progressive passes\n",
    "- Progressive carries\n",
    "- Carries to final third\n",
    "- Carries to opposition box\n",
    "\n",
    "Gradient boosting regression is not as sensitive as multiple regression to magnitude of the features. Therefore, we do not perform feature scaling."
   ]
  },
  {
   "cell_type": "code",
   "execution_count": 7,
   "metadata": {},
   "outputs": [],
   "source": [
    "X_train = sdf[['xG','xA','Sh','SoT','SCA','GCA','KP','Ps3','PPA','PrP','PrC','Cr3','CPA']]\n",
    "Y = sdf[['Wages']]"
   ]
  },
  {
   "cell_type": "code",
   "execution_count": 8,
   "metadata": {},
   "outputs": [],
   "source": [
    "from sklearn.ensemble import GradientBoostingRegressor\n",
    "from sklearn.model_selection import GridSearchCV"
   ]
  },
  {
   "cell_type": "code",
   "execution_count": 9,
   "metadata": {},
   "outputs": [],
   "source": [
    "GBR=GradientBoostingRegressor()\n",
    "parameters={'n_estimators':[10,25,50,100,200],\n",
    "           'max_depth':[3,5,7],\n",
    "           'learning_rate':[0.01,0.05,0.1,0.2,0.5]}\n",
    "GBRcv=GridSearchCV(GBR,parameters,cv=5)"
   ]
  },
  {
   "cell_type": "code",
   "execution_count": 10,
   "metadata": {},
   "outputs": [
    {
     "data": {
      "text/plain": [
       "GridSearchCV(cv=5, estimator=GradientBoostingRegressor(),\n",
       "             param_grid={'learning_rate': [0.01, 0.05, 0.1, 0.2, 0.5],\n",
       "                         'max_depth': [3, 5, 7],\n",
       "                         'n_estimators': [10, 25, 50, 100, 200]})"
      ]
     },
     "execution_count": 10,
     "metadata": {},
     "output_type": "execute_result"
    }
   ],
   "source": [
    "GBRcv.fit(X_train,Y)"
   ]
  },
  {
   "cell_type": "code",
   "execution_count": 11,
   "metadata": {},
   "outputs": [
    {
     "data": {
      "text/plain": [
       "GradientBoostingRegressor(learning_rate=0.05, n_estimators=50)"
      ]
     },
     "execution_count": 11,
     "metadata": {},
     "output_type": "execute_result"
    }
   ],
   "source": [
    "GBRcv.best_estimator_"
   ]
  },
  {
   "cell_type": "code",
   "execution_count": 14,
   "metadata": {},
   "outputs": [
    {
     "data": {
      "text/plain": [
       "0.6902042865949006"
      ]
     },
     "execution_count": 14,
     "metadata": {},
     "output_type": "execute_result"
    }
   ],
   "source": [
    "WageModel = GradientBoostingRegressor(learning_rate=0.05,n_estimators=50)\n",
    "WageModel.fit(X_train,Y)\n",
    "WageModel.score(X_train,Y)"
   ]
  },
  {
   "cell_type": "markdown",
   "metadata": {},
   "source": [
    "The gradient boosting regressor has performed much better than the multiple regression.\n",
    "We shall now look at the same statistics which were analyzed in the regression model."
   ]
  },
  {
   "cell_type": "markdown",
   "metadata": {},
   "source": [
    "# Post-modelling analysis"
   ]
  },
  {
   "cell_type": "code",
   "execution_count": 16,
   "metadata": {},
   "outputs": [],
   "source": [
    "df.rename(columns={'SCA90':'SCA','GCA90':'GCA','Pto3':'Ps3','Prog':'PrP','ProgCrr':'PrC','Crrto3':'Cr3'},inplace=True)\n",
    "X_att=df[['xG','xA','Sh','SoT','SCA','GCA','KP','Ps3','PPA','PrP','PrC','Cr3','CPA']]\n",
    "df['ReasWage'] = WageModel.predict(X_att)"
   ]
  },
  {
   "cell_type": "code",
   "execution_count": 17,
   "metadata": {},
   "outputs": [
    {
     "data": {
      "text/plain": [
       "[<matplotlib.lines.Line2D at 0x12bdb30d0>]"
      ]
     },
     "execution_count": 17,
     "metadata": {},
     "output_type": "execute_result"
    },
    {
     "data": {
      "image/png": "[encoded data removed]",
      "text/plain": [
       "<Figure size 432x648 with 1 Axes>"
      ]
     },
     "metadata": {},
     "output_type": "display_data"
    }
   ],
   "source": [
    "sns.set_theme()\n",
    "plt.figure(figsize=(6,9))\n",
    "sns.scatterplot(x=df.ReasWage,y=df.Wages,hue=df.Pos)\n",
    "plt.plot(df.ReasWage,df.ReasWage)\n",
    "#plt.fill_between(wagedf.ReasWage,0.75*wagedf.ReasWage,1.5*wagedf.ReasWage,alpha=0.1,color='red')"
   ]
  },
  {
   "cell_type": "code",
   "execution_count": 18,
   "metadata": {},
   "outputs": [
    {
     "name": "stdout",
     "output_type": "stream",
     "text": [
      "Wage greater than reasonable wage \t: 95\n",
      "Wage equal to reasonable wage \t\t: 0\n",
      "Wage less than reasonable wage \t\t: 99\n"
     ]
    }
   ],
   "source": [
    "print('Wage greater than reasonable wage \\t:',len(df.index[df.Wages>df.ReasWage]))\n",
    "print('Wage equal to reasonable wage \\t\\t:',len(df.index[df.Wages==df.ReasWage]))\n",
    "print('Wage less than reasonable wage \\t\\t:',len(df.index[df.Wages<df.ReasWage]))"
   ]
  },
  {
   "cell_type": "code",
   "execution_count": 19,
   "metadata": {},
   "outputs": [
    {
     "name": "stdout",
     "output_type": "stream",
     "text": [
      "Average difference in wage \t: 8 %\n",
      "Standard deviation \t\t: 97 %\n"
     ]
    }
   ],
   "source": [
    "df['WageDiff']=(df['Wages']-df['ReasWage'])/df.ReasWage*100\n",
    "print('Average difference in wage \\t:',int(df['WageDiff'].mean()),'%')\n",
    "print('Standard deviation \\t\\t:',int(df['WageDiff'].std()),'%')"
   ]
  },
  {
   "cell_type": "markdown",
   "metadata": {},
   "source": [
    "Although the average difference is less, the variance is too large."
   ]
  },
  {
   "cell_type": "code",
   "execution_count": 20,
   "metadata": {},
   "outputs": [
    {
     "data": {
      "text/plain": [
       "<matplotlib.axes._subplots.AxesSubplot at 0x12c0c0be0>"
      ]
     },
     "execution_count": 20,
     "metadata": {},
     "output_type": "execute_result"
    },
    {
     "data": {
      "image/png": "[encoded data removed]",
      "text/plain": [
       "<Figure size 432x288 with 1 Axes>"
      ]
     },
     "metadata": {},
     "output_type": "display_data"
    }
   ],
   "source": [
    "sns.histplot(data=df,x='WageDiff')"
   ]
  },
  {
   "cell_type": "code",
   "execution_count": 21,
   "metadata": {},
   "outputs": [
    {
     "data": {
      "image/png": "[encoded data removed]",
      "text/plain": [
       "<Figure size 1152x72 with 1 Axes>"
      ]
     },
     "metadata": {},
     "output_type": "display_data"
    }
   ],
   "source": [
    "sns.set(rc={\"figure.figsize\":(16, 1)},font_scale=1.5)\n",
    "ax=sns.boxplot(x='WageDiff',data=df,palette='pastel',flierprops=dict(markerfacecolor='red',markersize=8))"
   ]
  },
  {
   "cell_type": "markdown",
   "metadata": {},
   "source": [
    "This model gives a more accurate description of the ground truth. The upper bound of normal wage range is only marginally greater than double the reasonable wage."
   ]
  },
  {
   "cell_type": "code",
   "execution_count": 22,
   "metadata": {},
   "outputs": [
    {
     "data": {
      "text/html": [
       "<div>\n",
       "<style scoped>\n",
       "    .dataframe tbody tr th:only-of-type {\n",
       "        vertical-align: middle;\n",
       "    }\n",
       "\n",
       "    .dataframe tbody tr th {\n",
       "        vertical-align: top;\n",
       "    }\n",
       "\n",
       "    .dataframe thead th {\n",
       "        text-align: right;\n",
       "    }\n",
       "</style>\n",
       "<table border=\"1\" class=\"dataframe\">\n",
       "  <thead>\n",
       "    <tr style=\"text-align: right;\">\n",
       "      <th></th>\n",
       "      <th>WageDiff</th>\n",
       "      <th>Squad</th>\n",
       "    </tr>\n",
       "    <tr>\n",
       "      <th>Player</th>\n",
       "      <th></th>\n",
       "      <th></th>\n",
       "    </tr>\n",
       "  </thead>\n",
       "  <tbody>\n",
       "    <tr>\n",
       "      <th>Romelu Lukaku</th>\n",
       "      <td>710.479917</td>\n",
       "      <td>CHE</td>\n",
       "    </tr>\n",
       "    <tr>\n",
       "      <th>Cristiano Ronaldo</th>\n",
       "      <td>661.457090</td>\n",
       "      <td>MUN</td>\n",
       "    </tr>\n",
       "    <tr>\n",
       "      <th>N'Golo Kanté</th>\n",
       "      <td>363.420192</td>\n",
       "      <td>CHE</td>\n",
       "    </tr>\n",
       "    <tr>\n",
       "      <th>Edinson Cavani</th>\n",
       "      <td>288.225537</td>\n",
       "      <td>MUN</td>\n",
       "    </tr>\n",
       "    <tr>\n",
       "      <th>Jadon Sancho</th>\n",
       "      <td>248.847510</td>\n",
       "      <td>MUN</td>\n",
       "    </tr>\n",
       "    <tr>\n",
       "      <th>Timo Werner</th>\n",
       "      <td>225.086336</td>\n",
       "      <td>CHE</td>\n",
       "    </tr>\n",
       "    <tr>\n",
       "      <th>Philippe Coutinho</th>\n",
       "      <td>175.938961</td>\n",
       "      <td>AVL</td>\n",
       "    </tr>\n",
       "    <tr>\n",
       "      <th>Raheem Sterling</th>\n",
       "      <td>166.152478</td>\n",
       "      <td>MCI</td>\n",
       "    </tr>\n",
       "    <tr>\n",
       "      <th>Kevin De Bruyne</th>\n",
       "      <td>147.480681</td>\n",
       "      <td>MCI</td>\n",
       "    </tr>\n",
       "    <tr>\n",
       "      <th>Boubakary Soumaré</th>\n",
       "      <td>146.635984</td>\n",
       "      <td>LEI</td>\n",
       "    </tr>\n",
       "  </tbody>\n",
       "</table>\n",
       "</div>"
      ],
      "text/plain": [
       "                     WageDiff Squad\n",
       "Player                             \n",
       "Romelu Lukaku      710.479917   CHE\n",
       "Cristiano Ronaldo  661.457090   MUN\n",
       "N'Golo Kanté       363.420192   CHE\n",
       "Edinson Cavani     288.225537   MUN\n",
       "Jadon Sancho       248.847510   MUN\n",
       "Timo Werner        225.086336   CHE\n",
       "Philippe Coutinho  175.938961   AVL\n",
       "Raheem Sterling    166.152478   MCI\n",
       "Kevin De Bruyne    147.480681   MCI\n",
       "Boubakary Soumaré  146.635984   LEI"
      ]
     },
     "execution_count": 22,
     "metadata": {},
     "output_type": "execute_result"
    }
   ],
   "source": [
    "percentile75=df['WageDiff'].quantile(0.75)\n",
    "percentile25=df['WageDiff'].quantile(0.25)\n",
    "upper_bound_wage=percentile75+1.5*(percentile75-percentile25)\n",
    "wage_outliers=df[df.WageDiff>upper_bound_wage]\n",
    "n_outliers=wage_outliers.shape[0]\n",
    "wage_outliers[[\"WageDiff\",\"Squad\"]].sort_values(by='WageDiff',ascending=False)"
   ]
  },
  {
   "cell_type": "markdown",
   "metadata": {
    "variables": {
     " (df['Wages']-df['ReasWage']).idxmin() ": "Phil Foden",
     " df['WageDiff'].idxmin() ": "Sean Longstaff",
     " int(abs((df['Wages']-df['ReasWage']).min())) ": "70145",
     " int(df['WageDiff'].min()) ": "-97",
     " n_outliers ": "10"
    }
   },
   "source": [
    "There are {{ n_outliers }} who are outliers in this aspect - actual wage is several times that of the wage reasonable for their performance. Except two of them - Kante and Soumare - featured in the outlier wages list in the priliminary analysis as well. The presence of Kante in this list can be attributed to their position. He is key to his team for his defensive abilities which is not accounted for in the model. In the extreme other end of the spectrum we have {{ df['WageDiff'].idxmin() }} ({{ int(df['WageDiff'].min()) }}%). In absolute terms {{ (df['Wages']-df['ReasWage']).idxmin() }} gets {{ int(abs((df['Wages']-df['ReasWage']).min())) }}GBP less than what he should be getting."
   ]
  }
 ],
 "metadata": {
  "kernelspec": {
   "display_name": "Python 3",
   "language": "python",
   "name": "python3"
  },
  "language_info": {
   "codemirror_mode": {
    "name": "ipython",
    "version": 3
   },
   "file_extension": ".py",
   "mimetype": "text/x-python",
   "name": "python",
   "nbconvert_exporter": "python",
   "pygments_lexer": "ipython3",
   "version": "3.8.1"
  }
 },
 "nbformat": 4,
 "nbformat_minor": 4
}
